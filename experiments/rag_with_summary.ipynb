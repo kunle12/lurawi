{
 "cells": [
  {
   "cell_type": "code",
   "execution_count": 4,
   "id": "980769ee",
   "metadata": {},
   "outputs": [],
   "source": [
    "import nest_asyncio\n",
    "nest_asyncio.apply()\n",
    "\n",
    "from pathlib import Path\n",
    "from lurawi.lurawi_agent import LurawiAgent\n",
    "\n",
    "import uuid\n",
    "from chromadb import PersistentClient\n",
    "from chromadb.config import Settings\n",
    "from chromadb.utils import embedding_functions\n",
    "\n",
    "import chromadb.utils.embedding_functions as embedding_functions\n",
    "\n",
    "from tqdm import tqdm\n"
   ]
  },
  {
   "cell_type": "code",
   "execution_count": null,
   "id": "f214cfaa",
   "metadata": {},
   "outputs": [],
   "source": [
    "def rag_encode_markdowns(source_dir: str, collection_dir: str):\n",
    "    client = PersistentClient(path=collection_dir, settings=Settings(anonymized_telemetry=False))\n",
    "\n",
    "    embedding_fn = embedding_functions.OpenAIEmbeddingFunction(\n",
    "                    api_key=\"feind\",\n",
    "                    api_base=\"http://maxbackpack:8080/v1\",\n",
    "                    model_name=\"something\"\n",
    "                )\n",
    "\n",
    "    collection = client.create_collection(\"summary_collection\", embedding_function=embedding_fn)\n",
    "\n",
    "\n",
    "    summary_agent = LurawiAgent(name=\"summary_agent\", behaviour=\"summary_agent\",\n",
    "                                workspace=\"/home/xun/dev/lurawi\")\n",
    "\n",
    "    directory = Path(source_dir)\n",
    "    if not directory.exists():\n",
    "        raise FileNotFoundError(f\"Directory not found: {source_dir}\")\n",
    " \n",
    "    md_files = directory.rglob(\"*.md\")\n",
    "\n",
    "    for md_file in tqdm(md_files):\n",
    "        #print(f\"processinng {md_file.name}...\")\n",
    "\n",
    "        summary = summary_agent.run_agent(summary_prompt=\"你是一个资深大厨师和美食家。用简洁的语言，从主要配料，制作难度，需要多少时间来准备，什么时令适合做，适合怎样体质的人食用，有什么益处 这几方面来评判总结以下菜谱。不要用表情包！\",\n",
    "                                text_file=str(md_file.resolve()))\n",
    "\n",
    "        chunk_id = str(uuid.uuid4())\n",
    "        collection.add(\n",
    "                    documents=[summary],\n",
    "                    ids=[f\"doc_{chunk_id}\"],\n",
    "                    metadatas=[{\"source\": str(md_file.name), \"chuck_id\": chunk_id}]\n",
    "                )\n"
   ]
  },
  {
   "cell_type": "code",
   "execution_count": null,
   "id": "81ebd0da",
   "metadata": {},
   "outputs": [],
   "source": [
    "rag_encode_markdowns(source_dir=\"/home/xun/dev/HowToCook/dishes\")"
   ]
  }
 ],
 "metadata": {
  "kernelspec": {
   "display_name": ".venv",
   "language": "python",
   "name": "python3"
  },
  "language_info": {
   "codemirror_mode": {
    "name": "ipython",
    "version": 3
   },
   "file_extension": ".py",
   "mimetype": "text/x-python",
   "name": "python",
   "nbconvert_exporter": "python",
   "pygments_lexer": "ipython3",
   "version": "3.12.3"
  }
 },
 "nbformat": 4,
 "nbformat_minor": 5
}
